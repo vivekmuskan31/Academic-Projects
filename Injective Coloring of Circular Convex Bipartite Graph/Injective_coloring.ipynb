{
 "cells": [
  {
   "cell_type": "code",
   "execution_count": 10,
   "metadata": {},
   "outputs": [],
   "source": [
    "# Define you graph here in adjacency list faishon\n",
    "# Assume convexity over Y\n",
    "# Graph 1\n",
    "X = [\n",
    "    [1,3],\n",
    "    [1,2],\n",
    "    [1,2],\n",
    "    [2,3]\n",
    "]\n",
    "Y = [\n",
    "    [1,2,3],\n",
    "    [2,3,4],\n",
    "    [1,4]\n",
    "]"
   ]
  },
  {
   "cell_type": "code",
   "execution_count": 11,
   "metadata": {},
   "outputs": [
    {
     "data": {
      "image/png": "[encoded data removed]",
      "text/plain": [
       "<Figure size 432x288 with 1 Axes>"
      ]
     },
     "metadata": {},
     "output_type": "display_data"
    }
   ],
   "source": [
    "# Verify your graph here\n",
    "_X = ['x'+str(i) for i in range(1,len(X)+1)]\n",
    "_Y = ['y'+str(i) for i in range(1,len(Y)+1)]\n",
    "_E = []\n",
    "for i in range(1,len(X)+1):\n",
    "    for y in X[i-1]:\n",
    "        _E.append(('x'+str(i), 'y'+str(y)))\n",
    "\n",
    "# Potting graph\n",
    "import networkx as nx\n",
    "import matplotlib\n",
    "from networkx.algorithms import bipartite\n",
    "colors = ['pink','yellow','skyblue','orangered','magenta','cyan','white','blue','green','red','grey','olive']\n",
    "\n",
    "G = nx.Graph()\n",
    "\n",
    "G.add_nodes_from(_X, bipartite=0)\n",
    "G.add_nodes_from(_Y, bipartite=1)\n",
    "G.add_edges_from(_E)\n",
    "\n",
    "clr = [colors[0] for i in range(len(X))]\n",
    "for i in range(len(Y)): clr.append(colors[1])\n",
    "\n",
    "pos = nx.bipartite_layout(G,_X,align='vertical')\n",
    "nx.draw(G,pos,with_labels=1, node_color = clr)"
   ]
  },
  {
   "cell_type": "code",
   "execution_count": 5,
   "metadata": {},
   "outputs": [],
   "source": [
    "# Finding Injective coloring in this section\n",
    "\n",
    "colorX = [-1 for i in range(len(X))]\n",
    "colorY = [-1 for i in range(len(Y))]\n",
    "\n",
    "# Coloring X\n",
    "for x in range(1,len(X)+1):\n",
    "    if(colorX[x-1] == -1):\n",
    "        S = set()\n",
    "        for _y in X[x-1]:\n",
    "            for _x in Y[_y-1]:\n",
    "                if (colorX[_x-1] != -1): S.add(colorX[_x-1])\n",
    "\n",
    "        for i in range(1,len(X)+1):\n",
    "            if i not in S:\n",
    "                colorX[x-1] = i\n",
    "                break\n",
    "\n",
    "# Coloring Y\n",
    "for y in range(1,len(Y)+1):\n",
    "    if(colorY[y-1] == -1):\n",
    "        S = set()\n",
    "        for _x in Y[y-1]:\n",
    "            for _y in X[_x-1]:\n",
    "                if (colorY[_y-1] != -1): S.add(colorY[_y-1])\n",
    "\n",
    "        for i in range(1,len(Y)+1):\n",
    "            if i not in S:\n",
    "                colorY[y-1] = i\n",
    "                break\n",
    "\n",
    "# Getting Injective Chromatic number here\n",
    "C = set()\n",
    "for x in colorX: C.add(x)\n",
    "for y in colorY: C.add(y)"
   ]
  },
  {
   "cell_type": "code",
   "execution_count": 12,
   "metadata": {},
   "outputs": [
    {
     "name": "stdout",
     "output_type": "stream",
     "text": [
      "Chromatic No :  4\n"
     ]
    },
    {
     "data": {
      "image/png": "[encoded data removed]",
      "text/plain": [
       "<Figure size 432x288 with 1 Axes>"
      ]
     },
     "metadata": {},
     "output_type": "display_data"
    }
   ],
   "source": [
    "# Displaying Result here\n",
    "\n",
    "for x in colorX: clr_map.append(colors[x-1])\n",
    "for y in colorY: clr_map.append(colors[y-1])\n",
    "\n",
    "print(\"Chromatic No : \",len(C))\n",
    "nx.draw(G,pos,with_labels=1, node_color = clr_map)"
   ]
  },
  {
   "cell_type": "code",
   "execution_count": null,
   "metadata": {},
   "outputs": [],
   "source": [
    "\n",
    "\n",
    "# Graph 2\n",
    "# X = [\n",
    "#     [1,2,3,5],\n",
    "#     [1,2,3],\n",
    "#     [2,3],\n",
    "#     [3,4],\n",
    "#     [4,5],\n",
    "#     [1,4,5],\n",
    "#     [1,2,4,5]\n",
    "# ]\n",
    "\n",
    "# Y = [\n",
    "#     [1,2,6,7],\n",
    "#     [1,2,3,7],\n",
    "#     [1,2,3,4],\n",
    "#     [4,5,6,7],\n",
    "#     [1,5,6,7]\n",
    "# ]\n",
    "\n",
    "\n",
    "# # Graph 3\n",
    "# X = [\n",
    "#     [1,2,6],\n",
    "#     [2,3],\n",
    "#     [3],\n",
    "#     [3,4,5],\n",
    "#     [5],\n",
    "#     [5,6]\n",
    "# ]\n",
    "# Y = [\n",
    "#     [1],\n",
    "#     [1,2],\n",
    "#     [2,3,4],\n",
    "#     [4],\n",
    "#     [4,5,6],\n",
    "#     [1,6]\n",
    "# ]"
   ]
  }
 ],
 "metadata": {
  "kernelspec": {
   "display_name": "Python 3",
   "language": "python",
   "name": "python3"
  },
  "language_info": {
   "codemirror_mode": {
    "name": "ipython",
    "version": 3
   },
   "file_extension": ".py",
   "mimetype": "text/x-python",
   "name": "python",
   "nbconvert_exporter": "python",
   "pygments_lexer": "ipython3",
   "version": "3.8.5"
  }
 },
 "nbformat": 4,
 "nbformat_minor": 4
}
