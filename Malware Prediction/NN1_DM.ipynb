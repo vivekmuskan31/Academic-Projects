{
  "nbformat": 4,
  "nbformat_minor": 0,
  "metadata": {
    "colab": {
      "name": "NN1_DM.ipynb",
      "provenance": [],
      "collapsed_sections": []
    },
    "kernelspec": {
      "name": "python3",
      "display_name": "Python 3"
    },
    "accelerator": "GPU"
  },
  "cells": [
    {
      "cell_type": "code",
      "metadata": {
        "id": "j6zCTyDI4lgq",
        "colab_type": "code",
        "colab": {}
      },
      "source": [
        "!pip install -U -q PyDrive\n",
        "from pydrive.auth import GoogleAuth\n",
        "from pydrive.drive import GoogleDrive\n",
        "from google.colab import auth\n",
        "from oauth2client.client import GoogleCredentials\n",
        "# Authenticate and create the PyDrive client.\n",
        "auth.authenticate_user()\n",
        "gauth = GoogleAuth()\n",
        "gauth.credentials = GoogleCredentials.get_application_default()\n",
        "drive = GoogleDrive(gauth)"
      ],
      "execution_count": 0,
      "outputs": []
    },
    {
      "cell_type": "code",
      "metadata": {
        "id": "RV_SvWqGJIOz",
        "colab_type": "code",
        "colab": {}
      },
      "source": [
        "import pandas as pd"
      ],
      "execution_count": 0,
      "outputs": []
    },
    {
      "cell_type": "code",
      "metadata": {
        "id": "MwQKJOzN4mpk",
        "colab_type": "code",
        "colab": {
          "base_uri": "https://localhost:8080/",
          "height": 50
        },
        "outputId": "f69dfab8-f92e-48a8-9132-c4f383c07b88"
      },
      "source": [
        "link_train = 'https://drive.google.com/open?id=1-45mBdl_NZ5y86tV2t5YuHCI5xYPoKzi'\n",
        "link_test =  'https://drive.google.com/open?id=1-45mBdl_NZ5y86tV2t5YuHCI5xYPoKzi'\n",
        "\n",
        "fluff_train, id_train = link_train.split('=')\n",
        "fluff_test, id_test = link_test.split('=')\n",
        "\n",
        "print (id_train) # Verify that you have everything after '='\n",
        "print(id_test)"
      ],
      "execution_count": 3,
      "outputs": [
        {
          "output_type": "stream",
          "text": [
            "1-45mBdl_NZ5y86tV2t5YuHCI5xYPoKzi\n",
            "1-45mBdl_NZ5y86tV2t5YuHCI5xYPoKzi\n"
          ],
          "name": "stdout"
        }
      ]
    },
    {
      "cell_type": "code",
      "metadata": {
        "id": "TQBszCra49TS",
        "colab_type": "code",
        "colab": {}
      },
      "source": [
        "downloaded = drive.CreateFile({'id':id_train}) \n",
        "downloaded.GetContentFile('Filename.csv')  \n",
        "train = pd.read_csv('Filename.csv')"
      ],
      "execution_count": 0,
      "outputs": []
    },
    {
      "cell_type": "code",
      "metadata": {
        "id": "_sZzbeeUKktk",
        "colab_type": "code",
        "colab": {}
      },
      "source": [
        "downloaded = drive.CreateFile({'id':id_test}) \n",
        "downloaded.GetContentFile('Filename.csv')  \n",
        "test = pd.read_csv('Filename.csv')"
      ],
      "execution_count": 0,
      "outputs": []
    },
    {
      "cell_type": "code",
      "metadata": {
        "id": "IpR_2BBx5EyD",
        "colab_type": "code",
        "colab": {
          "base_uri": "https://localhost:8080/",
          "height": 34
        },
        "outputId": "27e41c87-c1a3-4f6a-c70c-38be92983039"
      },
      "source": [
        "train.shape"
      ],
      "execution_count": 6,
      "outputs": [
        {
          "output_type": "execute_result",
          "data": {
            "text/plain": [
              "(1000000, 70)"
            ]
          },
          "metadata": {
            "tags": []
          },
          "execution_count": 6
        }
      ]
    },
    {
      "cell_type": "code",
      "metadata": {
        "id": "4S7Eml5lLH9V",
        "colab_type": "code",
        "colab": {
          "base_uri": "https://localhost:8080/",
          "height": 34
        },
        "outputId": "bed25b13-9c6d-4062-d344-d165a2770702"
      },
      "source": [
        "test.shape"
      ],
      "execution_count": 7,
      "outputs": [
        {
          "output_type": "execute_result",
          "data": {
            "text/plain": [
              "(1000000, 70)"
            ]
          },
          "metadata": {
            "tags": []
          },
          "execution_count": 7
        }
      ]
    },
    {
      "cell_type": "code",
      "metadata": {
        "id": "GhjHXl6n5ynJ",
        "colab_type": "code",
        "colab": {}
      },
      "source": [
        "train = train.to_numpy()\n",
        "test = test.to_numpy()"
      ],
      "execution_count": 0,
      "outputs": []
    },
    {
      "cell_type": "code",
      "metadata": {
        "id": "2mjWbtfr57Xq",
        "colab_type": "code",
        "colab": {
          "base_uri": "https://localhost:8080/",
          "height": 34
        },
        "outputId": "74fa7518-63a0-4b19-f684-35f7e760a37f"
      },
      "source": [
        "train.shape"
      ],
      "execution_count": 9,
      "outputs": [
        {
          "output_type": "execute_result",
          "data": {
            "text/plain": [
              "(1000000, 70)"
            ]
          },
          "metadata": {
            "tags": []
          },
          "execution_count": 9
        }
      ]
    },
    {
      "cell_type": "code",
      "metadata": {
        "id": "fruoQciOLpx7",
        "colab_type": "code",
        "colab": {
          "base_uri": "https://localhost:8080/",
          "height": 34
        },
        "outputId": "59d7f4c0-92d7-4a8d-885c-b6c77c7f12d5"
      },
      "source": [
        "test.shape"
      ],
      "execution_count": 10,
      "outputs": [
        {
          "output_type": "execute_result",
          "data": {
            "text/plain": [
              "(1000000, 70)"
            ]
          },
          "metadata": {
            "tags": []
          },
          "execution_count": 10
        }
      ]
    },
    {
      "cell_type": "code",
      "metadata": {
        "id": "gZwQyaKu59MV",
        "colab_type": "code",
        "colab": {}
      },
      "source": [
        "train = train[:,1:]"
      ],
      "execution_count": 0,
      "outputs": []
    },
    {
      "cell_type": "code",
      "metadata": {
        "id": "0-ymVRxJ6AVT",
        "colab_type": "code",
        "colab": {
          "base_uri": "https://localhost:8080/",
          "height": 34
        },
        "outputId": "fd0fce00-3b41-4051-d8e8-6559b72419c4"
      },
      "source": [
        "train.shape"
      ],
      "execution_count": 12,
      "outputs": [
        {
          "output_type": "execute_result",
          "data": {
            "text/plain": [
              "(1000000, 69)"
            ]
          },
          "metadata": {
            "tags": []
          },
          "execution_count": 12
        }
      ]
    },
    {
      "cell_type": "code",
      "metadata": {
        "id": "UYkxKlOyLxlW",
        "colab_type": "code",
        "colab": {}
      },
      "source": [
        "test = test[:,1:]"
      ],
      "execution_count": 0,
      "outputs": []
    },
    {
      "cell_type": "code",
      "metadata": {
        "id": "iZ97rrUoLxyY",
        "colab_type": "code",
        "colab": {
          "base_uri": "https://localhost:8080/",
          "height": 34
        },
        "outputId": "8bb527e1-e00e-45da-8154-5a73ff9ba891"
      },
      "source": [
        "test.shape"
      ],
      "execution_count": 14,
      "outputs": [
        {
          "output_type": "execute_result",
          "data": {
            "text/plain": [
              "(1000000, 69)"
            ]
          },
          "metadata": {
            "tags": []
          },
          "execution_count": 14
        }
      ]
    },
    {
      "cell_type": "code",
      "metadata": {
        "id": "3Lz21HXY6ITZ",
        "colab_type": "code",
        "colab": {}
      },
      "source": [
        "Y_train = train[:,-1]"
      ],
      "execution_count": 0,
      "outputs": []
    },
    {
      "cell_type": "code",
      "metadata": {
        "id": "lNTe2CDjMFMM",
        "colab_type": "code",
        "colab": {}
      },
      "source": [
        "Y_test = test[:,-1]"
      ],
      "execution_count": 0,
      "outputs": []
    },
    {
      "cell_type": "code",
      "metadata": {
        "id": "DgBTj-n1MFR7",
        "colab_type": "code",
        "colab": {}
      },
      "source": [
        "X_train = train[:,:-1]"
      ],
      "execution_count": 0,
      "outputs": []
    },
    {
      "cell_type": "code",
      "metadata": {
        "id": "soQvlhFsMFK-",
        "colab_type": "code",
        "colab": {}
      },
      "source": [
        "X_train = (X_train-X_train.mean())/X_train.std()"
      ],
      "execution_count": 0,
      "outputs": []
    },
    {
      "cell_type": "code",
      "metadata": {
        "id": "pTi05s6b6wAz",
        "colab_type": "code",
        "colab": {}
      },
      "source": [
        "X_test = test[:,:-1]"
      ],
      "execution_count": 0,
      "outputs": []
    },
    {
      "cell_type": "code",
      "metadata": {
        "id": "Nf00gqto69LO",
        "colab_type": "code",
        "colab": {}
      },
      "source": [
        "X_test = (X_test-X_test.mean())/X_test.std()"
      ],
      "execution_count": 0,
      "outputs": []
    },
    {
      "cell_type": "code",
      "metadata": {
        "id": "5-HbjUdmNwWT",
        "colab_type": "code",
        "colab": {}
      },
      "source": [
        "X_test_val = X_test[:300000,:]\n",
        "Y_test_val = Y_test[:300000]"
      ],
      "execution_count": 0,
      "outputs": []
    },
    {
      "cell_type": "code",
      "metadata": {
        "id": "n8PFX4zANw7o",
        "colab_type": "code",
        "colab": {
          "base_uri": "https://localhost:8080/",
          "height": 34
        },
        "outputId": "330eb2d8-bad4-4be0-a8a4-79de09fd9da3"
      },
      "source": [
        "X_test_val.shape"
      ],
      "execution_count": 22,
      "outputs": [
        {
          "output_type": "execute_result",
          "data": {
            "text/plain": [
              "(300000, 68)"
            ]
          },
          "metadata": {
            "tags": []
          },
          "execution_count": 22
        }
      ]
    },
    {
      "cell_type": "code",
      "metadata": {
        "id": "7YCPxdNHOFjT",
        "colab_type": "code",
        "colab": {
          "base_uri": "https://localhost:8080/",
          "height": 34
        },
        "outputId": "ba8d19ce-10ef-4a94-dee7-596300b6df70"
      },
      "source": [
        "Y_test_val.shape"
      ],
      "execution_count": 23,
      "outputs": [
        {
          "output_type": "execute_result",
          "data": {
            "text/plain": [
              "(300000,)"
            ]
          },
          "metadata": {
            "tags": []
          },
          "execution_count": 23
        }
      ]
    },
    {
      "cell_type": "code",
      "metadata": {
        "id": "dFpaczk76_W8",
        "colab_type": "code",
        "colab": {
          "base_uri": "https://localhost:8080/",
          "height": 79
        },
        "outputId": "1b6ef36d-6c4c-4335-f005-a399a340d1f8"
      },
      "source": [
        "import keras\n",
        "import numpy as np\n",
        "import matplotlib.pyplot as plt\n",
        "import seaborn as sns\n",
        "import time\n",
        "\n",
        "from keras import backend as K\n",
        "from keras.models import Sequential\n",
        "from keras.layers import Activation\n",
        "from keras.layers.core import Dense\n",
        "from keras.metrics import binary_crossentropy\n",
        "from keras.layers import BatchNormalization"
      ],
      "execution_count": 24,
      "outputs": [
        {
          "output_type": "stream",
          "text": [
            "Using TensorFlow backend.\n"
          ],
          "name": "stderr"
        },
        {
          "output_type": "display_data",
          "data": {
            "text/html": [
              "<p style=\"color: red;\">\n",
              "The default version of TensorFlow in Colab will soon switch to TensorFlow 2.x.<br>\n",
              "We recommend you <a href=\"https://www.tensorflow.org/guide/migrate\" target=\"_blank\">upgrade</a> now \n",
              "or ensure your notebook will continue to use TensorFlow 1.x via the <code>%tensorflow_version 1.x</code> magic:\n",
              "<a href=\"https://colab.research.google.com/notebooks/tensorflow_version.ipynb\" target=\"_blank\">more info</a>.</p>\n"
            ],
            "text/plain": [
              "<IPython.core.display.HTML object>"
            ]
          },
          "metadata": {
            "tags": []
          }
        }
      ]
    },
    {
      "cell_type": "code",
      "metadata": {
        "id": "iVFWJ9re7PCE",
        "colab_type": "code",
        "colab": {
          "base_uri": "https://localhost:8080/",
          "height": 171
        },
        "outputId": "0ecd45b8-ddd2-491f-a9cc-bf36adaecd58"
      },
      "source": [
        "model = Sequential([\n",
        "                    Dense(32, input_shape = (68,), activation = 'relu'),\n",
        "                    BatchNormalization(),\n",
        "                    Dense(16,activation='relu'),\n",
        "                    BatchNormalization(),\n",
        "                    Dense(1, activation = 'sigmoid')\n",
        "])"
      ],
      "execution_count": 25,
      "outputs": [
        {
          "output_type": "stream",
          "text": [
            "WARNING:tensorflow:From /usr/local/lib/python3.6/dist-packages/keras/backend/tensorflow_backend.py:66: The name tf.get_default_graph is deprecated. Please use tf.compat.v1.get_default_graph instead.\n",
            "\n",
            "WARNING:tensorflow:From /usr/local/lib/python3.6/dist-packages/keras/backend/tensorflow_backend.py:541: The name tf.placeholder is deprecated. Please use tf.compat.v1.placeholder instead.\n",
            "\n",
            "WARNING:tensorflow:From /usr/local/lib/python3.6/dist-packages/keras/backend/tensorflow_backend.py:4432: The name tf.random_uniform is deprecated. Please use tf.random.uniform instead.\n",
            "\n",
            "WARNING:tensorflow:From /usr/local/lib/python3.6/dist-packages/keras/backend/tensorflow_backend.py:148: The name tf.placeholder_with_default is deprecated. Please use tf.compat.v1.placeholder_with_default instead.\n",
            "\n"
          ],
          "name": "stdout"
        }
      ]
    },
    {
      "cell_type": "code",
      "metadata": {
        "id": "rooCRIcM8PKB",
        "colab_type": "code",
        "colab": {
          "base_uri": "https://localhost:8080/",
          "height": 319
        },
        "outputId": "c2e22626-4cc2-4383-bc8b-0cc32d85afaf"
      },
      "source": [
        "model.summary()"
      ],
      "execution_count": 26,
      "outputs": [
        {
          "output_type": "stream",
          "text": [
            "Model: \"sequential_1\"\n",
            "_________________________________________________________________\n",
            "Layer (type)                 Output Shape              Param #   \n",
            "=================================================================\n",
            "dense_1 (Dense)              (None, 32)                2208      \n",
            "_________________________________________________________________\n",
            "batch_normalization_1 (Batch (None, 32)                128       \n",
            "_________________________________________________________________\n",
            "dense_2 (Dense)              (None, 16)                528       \n",
            "_________________________________________________________________\n",
            "batch_normalization_2 (Batch (None, 16)                64        \n",
            "_________________________________________________________________\n",
            "dense_3 (Dense)              (None, 1)                 17        \n",
            "=================================================================\n",
            "Total params: 2,945\n",
            "Trainable params: 2,849\n",
            "Non-trainable params: 96\n",
            "_________________________________________________________________\n"
          ],
          "name": "stdout"
        }
      ]
    },
    {
      "cell_type": "code",
      "metadata": {
        "id": "619dhcrR8Rr2",
        "colab_type": "code",
        "colab": {
          "base_uri": "https://localhost:8080/",
          "height": 154
        },
        "outputId": "36223772-192f-4df2-f61c-686619906f01"
      },
      "source": [
        "model.compile(optimizer='rmsprop',\n",
        "              loss='binary_crossentropy',\n",
        "              metrics=['accuracy'])"
      ],
      "execution_count": 27,
      "outputs": [
        {
          "output_type": "stream",
          "text": [
            "WARNING:tensorflow:From /usr/local/lib/python3.6/dist-packages/keras/optimizers.py:793: The name tf.train.Optimizer is deprecated. Please use tf.compat.v1.train.Optimizer instead.\n",
            "\n",
            "WARNING:tensorflow:From /usr/local/lib/python3.6/dist-packages/keras/backend/tensorflow_backend.py:3657: The name tf.log is deprecated. Please use tf.math.log instead.\n",
            "\n",
            "WARNING:tensorflow:From /usr/local/lib/python3.6/dist-packages/tensorflow_core/python/ops/nn_impl.py:183: where (from tensorflow.python.ops.array_ops) is deprecated and will be removed in a future version.\n",
            "Instructions for updating:\n",
            "Use tf.where in 2.0, which has the same broadcast rule as np.where\n"
          ],
          "name": "stdout"
        }
      ]
    },
    {
      "cell_type": "code",
      "metadata": {
        "id": "wLu8s-K18Vwi",
        "colab_type": "code",
        "colab": {
          "base_uri": "https://localhost:8080/",
          "height": 994
        },
        "outputId": "2225d64d-8968-4572-bcc0-e3b0311b62de"
      },
      "source": [
        "History1 = model.fit(X_train,Y_train,batch_size = 500, epochs = 20, validation_data=(X_test_val, Y_test_val))"
      ],
      "execution_count": 28,
      "outputs": [
        {
          "output_type": "stream",
          "text": [
            "WARNING:tensorflow:From /usr/local/lib/python3.6/dist-packages/keras/backend/tensorflow_backend.py:1033: The name tf.assign_add is deprecated. Please use tf.compat.v1.assign_add instead.\n",
            "\n",
            "WARNING:tensorflow:From /usr/local/lib/python3.6/dist-packages/keras/backend/tensorflow_backend.py:1020: The name tf.assign is deprecated. Please use tf.compat.v1.assign instead.\n",
            "\n",
            "WARNING:tensorflow:From /usr/local/lib/python3.6/dist-packages/keras/backend/tensorflow_backend.py:3005: The name tf.Session is deprecated. Please use tf.compat.v1.Session instead.\n",
            "\n",
            "Train on 1000000 samples, validate on 300000 samples\n",
            "Epoch 1/20\n",
            "WARNING:tensorflow:From /usr/local/lib/python3.6/dist-packages/keras/backend/tensorflow_backend.py:190: The name tf.get_default_session is deprecated. Please use tf.compat.v1.get_default_session instead.\n",
            "\n",
            "WARNING:tensorflow:From /usr/local/lib/python3.6/dist-packages/keras/backend/tensorflow_backend.py:197: The name tf.ConfigProto is deprecated. Please use tf.compat.v1.ConfigProto instead.\n",
            "\n",
            "WARNING:tensorflow:From /usr/local/lib/python3.6/dist-packages/keras/backend/tensorflow_backend.py:207: The name tf.global_variables is deprecated. Please use tf.compat.v1.global_variables instead.\n",
            "\n",
            "WARNING:tensorflow:From /usr/local/lib/python3.6/dist-packages/keras/backend/tensorflow_backend.py:216: The name tf.is_variable_initialized is deprecated. Please use tf.compat.v1.is_variable_initialized instead.\n",
            "\n",
            "WARNING:tensorflow:From /usr/local/lib/python3.6/dist-packages/keras/backend/tensorflow_backend.py:223: The name tf.variables_initializer is deprecated. Please use tf.compat.v1.variables_initializer instead.\n",
            "\n",
            "1000000/1000000 [==============================] - 20s 20us/step - loss: 0.6930 - acc: 0.5165 - val_loss: 1.3735 - val_acc: 0.4900\n",
            "Epoch 2/20\n",
            "1000000/1000000 [==============================] - 19s 19us/step - loss: 0.6908 - acc: 0.5325 - val_loss: 1.8318 - val_acc: 0.5000\n",
            "Epoch 3/20\n",
            "1000000/1000000 [==============================] - 19s 19us/step - loss: 0.6893 - acc: 0.5442 - val_loss: 3.2842 - val_acc: 0.5000\n",
            "Epoch 4/20\n",
            "1000000/1000000 [==============================] - 19s 19us/step - loss: 0.6884 - acc: 0.5481 - val_loss: 3.7283 - val_acc: 0.5000\n",
            "Epoch 5/20\n",
            "1000000/1000000 [==============================] - 19s 19us/step - loss: 0.6896 - acc: 0.5485 - val_loss: 5.8607 - val_acc: 0.5000\n",
            "Epoch 6/20\n",
            "1000000/1000000 [==============================] - 19s 19us/step - loss: 0.6880 - acc: 0.5509 - val_loss: 0.7649 - val_acc: 0.4999\n",
            "Epoch 7/20\n",
            "1000000/1000000 [==============================] - 19s 19us/step - loss: 0.6877 - acc: 0.5570 - val_loss: 1.1646 - val_acc: 0.4999\n",
            "Epoch 8/20\n",
            "1000000/1000000 [==============================] - 19s 19us/step - loss: 0.6861 - acc: 0.5607 - val_loss: 1.5674 - val_acc: 0.4999\n",
            "Epoch 9/20\n",
            "1000000/1000000 [==============================] - 19s 19us/step - loss: 0.6863 - acc: 0.5618 - val_loss: 0.7017 - val_acc: 0.5001\n",
            "Epoch 10/20\n",
            "1000000/1000000 [==============================] - 19s 19us/step - loss: 0.6896 - acc: 0.5564 - val_loss: 0.6849 - val_acc: 0.5451\n",
            "Epoch 11/20\n",
            "1000000/1000000 [==============================] - 19s 19us/step - loss: 0.6870 - acc: 0.5583 - val_loss: 1.7080 - val_acc: 0.5000\n",
            "Epoch 12/20\n",
            "1000000/1000000 [==============================] - 19s 19us/step - loss: 0.6873 - acc: 0.5645 - val_loss: 2.9252 - val_acc: 0.5000\n",
            "Epoch 13/20\n",
            "1000000/1000000 [==============================] - 19s 19us/step - loss: 0.6855 - acc: 0.5648 - val_loss: 1.6347 - val_acc: 0.5000\n",
            "Epoch 14/20\n",
            "1000000/1000000 [==============================] - 19s 19us/step - loss: 0.6847 - acc: 0.5656 - val_loss: 1.4892 - val_acc: 0.5079\n",
            "Epoch 15/20\n",
            "1000000/1000000 [==============================] - 19s 19us/step - loss: 0.6840 - acc: 0.5654 - val_loss: 0.9120 - val_acc: 0.4999\n",
            "Epoch 16/20\n",
            "1000000/1000000 [==============================] - 19s 19us/step - loss: 0.6826 - acc: 0.5668 - val_loss: 1.7324 - val_acc: 0.5079\n",
            "Epoch 17/20\n",
            "1000000/1000000 [==============================] - 19s 19us/step - loss: 0.6823 - acc: 0.5668 - val_loss: 1.4363 - val_acc: 0.5093\n",
            "Epoch 18/20\n",
            "1000000/1000000 [==============================] - 19s 19us/step - loss: 0.6826 - acc: 0.5664 - val_loss: 1.0600 - val_acc: 0.5275\n",
            "Epoch 19/20\n",
            "1000000/1000000 [==============================] - 19s 19us/step - loss: 0.6818 - acc: 0.5685 - val_loss: 1.2423 - val_acc: 0.5014\n",
            "Epoch 20/20\n",
            "1000000/1000000 [==============================] - 19s 19us/step - loss: 0.6812 - acc: 0.5696 - val_loss: 1.2713 - val_acc: 0.5089\n"
          ],
          "name": "stdout"
        }
      ]
    },
    {
      "cell_type": "code",
      "metadata": {
        "id": "H7AxGeC_NVf6",
        "colab_type": "code",
        "colab": {}
      },
      "source": [
        ""
      ],
      "execution_count": 0,
      "outputs": []
    },
    {
      "cell_type": "code",
      "metadata": {
        "id": "KFVQXzGXTX-0",
        "colab_type": "code",
        "colab": {}
      },
      "source": [
        ""
      ],
      "execution_count": 0,
      "outputs": []
    }
  ]
}