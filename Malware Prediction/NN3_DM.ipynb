{
  "nbformat": 4,
  "nbformat_minor": 0,
  "metadata": {
    "colab": {
      "name": "NN3_DM.ipynb",
      "provenance": [],
      "collapsed_sections": []
    },
    "kernelspec": {
      "name": "python3",
      "display_name": "Python 3"
    },
    "accelerator": "GPU"
  },
  "cells": [
    {
      "cell_type": "markdown",
      "metadata": {
        "id": "p5LjaMpAYD4Z",
        "colab_type": "text"
      },
      "source": [
        ""
      ]
    },
    {
      "cell_type": "code",
      "metadata": {
        "id": "j6zCTyDI4lgq",
        "colab_type": "code",
        "colab": {}
      },
      "source": [
        "!pip install -U -q PyDrive\n",
        "from pydrive.auth import GoogleAuth\n",
        "from pydrive.drive import GoogleDrive\n",
        "from google.colab import auth\n",
        "from oauth2client.client import GoogleCredentials\n",
        "# Authenticate and create the PyDrive client.\n",
        "auth.authenticate_user()\n",
        "gauth = GoogleAuth()\n",
        "gauth.credentials = GoogleCredentials.get_application_default()\n",
        "drive = GoogleDrive(gauth)"
      ],
      "execution_count": 0,
      "outputs": []
    },
    {
      "cell_type": "code",
      "metadata": {
        "id": "RV_SvWqGJIOz",
        "colab_type": "code",
        "colab": {}
      },
      "source": [
        "import pandas as pd"
      ],
      "execution_count": 0,
      "outputs": []
    },
    {
      "cell_type": "code",
      "metadata": {
        "id": "MwQKJOzN4mpk",
        "colab_type": "code",
        "outputId": "ceaaa83f-5cf6-448a-c0aa-a5a681501efc",
        "colab": {
          "base_uri": "https://localhost:8080/",
          "height": 50
        }
      },
      "source": [
        "link_train = 'https://drive.google.com/open?id=1-45mBdl_NZ5y86tV2t5YuHCI5xYPoKzi'\n",
        "link_test =  'https://drive.google.com/open?id=1-45mBdl_NZ5y86tV2t5YuHCI5xYPoKzi'\n",
        "\n",
        "fluff_train, id_train = link_train.split('=')\n",
        "fluff_test, id_test = link_test.split('=')\n",
        "\n",
        "print (id_train) # Verify that you have everything after '='\n",
        "print(id_test)"
      ],
      "execution_count": 3,
      "outputs": [
        {
          "output_type": "stream",
          "text": [
            "1-45mBdl_NZ5y86tV2t5YuHCI5xYPoKzi\n",
            "1-45mBdl_NZ5y86tV2t5YuHCI5xYPoKzi\n"
          ],
          "name": "stdout"
        }
      ]
    },
    {
      "cell_type": "code",
      "metadata": {
        "id": "TQBszCra49TS",
        "colab_type": "code",
        "colab": {}
      },
      "source": [
        "downloaded = drive.CreateFile({'id':id_train}) \n",
        "downloaded.GetContentFile('Filename.csv')  \n",
        "train = pd.read_csv('Filename.csv')"
      ],
      "execution_count": 0,
      "outputs": []
    },
    {
      "cell_type": "code",
      "metadata": {
        "id": "_sZzbeeUKktk",
        "colab_type": "code",
        "colab": {}
      },
      "source": [
        "downloaded = drive.CreateFile({'id':id_test}) \n",
        "downloaded.GetContentFile('Filename.csv')  \n",
        "test = pd.read_csv('Filename.csv')"
      ],
      "execution_count": 0,
      "outputs": []
    },
    {
      "cell_type": "code",
      "metadata": {
        "id": "IpR_2BBx5EyD",
        "colab_type": "code",
        "outputId": "46eb3605-25ea-4775-d839-e63f4e53349d",
        "colab": {
          "base_uri": "https://localhost:8080/",
          "height": 34
        }
      },
      "source": [
        "train.shape"
      ],
      "execution_count": 6,
      "outputs": [
        {
          "output_type": "execute_result",
          "data": {
            "text/plain": [
              "(1000000, 70)"
            ]
          },
          "metadata": {
            "tags": []
          },
          "execution_count": 6
        }
      ]
    },
    {
      "cell_type": "code",
      "metadata": {
        "id": "4S7Eml5lLH9V",
        "colab_type": "code",
        "outputId": "edce8d34-e3bb-4732-a3d8-9c50120853e1",
        "colab": {
          "base_uri": "https://localhost:8080/",
          "height": 34
        }
      },
      "source": [
        "test.shape"
      ],
      "execution_count": 7,
      "outputs": [
        {
          "output_type": "execute_result",
          "data": {
            "text/plain": [
              "(1000000, 70)"
            ]
          },
          "metadata": {
            "tags": []
          },
          "execution_count": 7
        }
      ]
    },
    {
      "cell_type": "code",
      "metadata": {
        "id": "GhjHXl6n5ynJ",
        "colab_type": "code",
        "colab": {}
      },
      "source": [
        "train = train.to_numpy()\n",
        "test = test.to_numpy()"
      ],
      "execution_count": 0,
      "outputs": []
    },
    {
      "cell_type": "code",
      "metadata": {
        "id": "2mjWbtfr57Xq",
        "colab_type": "code",
        "outputId": "36b82ad8-9644-4674-9312-57045d1d17cc",
        "colab": {
          "base_uri": "https://localhost:8080/",
          "height": 34
        }
      },
      "source": [
        "train.shape"
      ],
      "execution_count": 9,
      "outputs": [
        {
          "output_type": "execute_result",
          "data": {
            "text/plain": [
              "(1000000, 70)"
            ]
          },
          "metadata": {
            "tags": []
          },
          "execution_count": 9
        }
      ]
    },
    {
      "cell_type": "code",
      "metadata": {
        "id": "fruoQciOLpx7",
        "colab_type": "code",
        "outputId": "d0c9a864-7dcd-48aa-aeb2-085ec173a175",
        "colab": {
          "base_uri": "https://localhost:8080/",
          "height": 34
        }
      },
      "source": [
        "test.shape"
      ],
      "execution_count": 10,
      "outputs": [
        {
          "output_type": "execute_result",
          "data": {
            "text/plain": [
              "(1000000, 70)"
            ]
          },
          "metadata": {
            "tags": []
          },
          "execution_count": 10
        }
      ]
    },
    {
      "cell_type": "code",
      "metadata": {
        "id": "gZwQyaKu59MV",
        "colab_type": "code",
        "colab": {}
      },
      "source": [
        "train = train[:,1:]"
      ],
      "execution_count": 0,
      "outputs": []
    },
    {
      "cell_type": "code",
      "metadata": {
        "id": "0-ymVRxJ6AVT",
        "colab_type": "code",
        "outputId": "b4fdaaf7-c4c6-41de-d5ed-496009ae6377",
        "colab": {
          "base_uri": "https://localhost:8080/",
          "height": 34
        }
      },
      "source": [
        "train.shape"
      ],
      "execution_count": 12,
      "outputs": [
        {
          "output_type": "execute_result",
          "data": {
            "text/plain": [
              "(1000000, 69)"
            ]
          },
          "metadata": {
            "tags": []
          },
          "execution_count": 12
        }
      ]
    },
    {
      "cell_type": "code",
      "metadata": {
        "id": "UYkxKlOyLxlW",
        "colab_type": "code",
        "colab": {}
      },
      "source": [
        "test = test[:,1:]"
      ],
      "execution_count": 0,
      "outputs": []
    },
    {
      "cell_type": "code",
      "metadata": {
        "id": "iZ97rrUoLxyY",
        "colab_type": "code",
        "outputId": "d25f21e9-1eac-44b9-84a0-87c0f4367be8",
        "colab": {
          "base_uri": "https://localhost:8080/",
          "height": 34
        }
      },
      "source": [
        "test.shape"
      ],
      "execution_count": 14,
      "outputs": [
        {
          "output_type": "execute_result",
          "data": {
            "text/plain": [
              "(1000000, 69)"
            ]
          },
          "metadata": {
            "tags": []
          },
          "execution_count": 14
        }
      ]
    },
    {
      "cell_type": "code",
      "metadata": {
        "id": "3Lz21HXY6ITZ",
        "colab_type": "code",
        "colab": {}
      },
      "source": [
        "Y_train = train[:,-1]"
      ],
      "execution_count": 0,
      "outputs": []
    },
    {
      "cell_type": "code",
      "metadata": {
        "id": "lNTe2CDjMFMM",
        "colab_type": "code",
        "colab": {}
      },
      "source": [
        "Y_test = test[:,-1]"
      ],
      "execution_count": 0,
      "outputs": []
    },
    {
      "cell_type": "code",
      "metadata": {
        "id": "DgBTj-n1MFR7",
        "colab_type": "code",
        "colab": {}
      },
      "source": [
        "X_train = train[:,:-1]"
      ],
      "execution_count": 0,
      "outputs": []
    },
    {
      "cell_type": "code",
      "metadata": {
        "id": "soQvlhFsMFK-",
        "colab_type": "code",
        "colab": {}
      },
      "source": [
        "X_train = (X_train-X_train.mean())/X_train.std()"
      ],
      "execution_count": 0,
      "outputs": []
    },
    {
      "cell_type": "code",
      "metadata": {
        "id": "pTi05s6b6wAz",
        "colab_type": "code",
        "colab": {}
      },
      "source": [
        "X_test = test[:,:-1]"
      ],
      "execution_count": 0,
      "outputs": []
    },
    {
      "cell_type": "code",
      "metadata": {
        "id": "Nf00gqto69LO",
        "colab_type": "code",
        "colab": {}
      },
      "source": [
        "X_test = (X_test-X_test.mean())/X_test.std()"
      ],
      "execution_count": 0,
      "outputs": []
    },
    {
      "cell_type": "code",
      "metadata": {
        "id": "5-HbjUdmNwWT",
        "colab_type": "code",
        "colab": {}
      },
      "source": [
        "X_test_val = X_test[:300000,:]\n",
        "Y_test_val = Y_test[:300000]"
      ],
      "execution_count": 0,
      "outputs": []
    },
    {
      "cell_type": "code",
      "metadata": {
        "id": "n8PFX4zANw7o",
        "colab_type": "code",
        "outputId": "d9129fe3-b7d7-4ea6-dd66-bd56f1de5ddb",
        "colab": {
          "base_uri": "https://localhost:8080/",
          "height": 34
        }
      },
      "source": [
        "X_test_val.shape"
      ],
      "execution_count": 22,
      "outputs": [
        {
          "output_type": "execute_result",
          "data": {
            "text/plain": [
              "(300000, 68)"
            ]
          },
          "metadata": {
            "tags": []
          },
          "execution_count": 22
        }
      ]
    },
    {
      "cell_type": "code",
      "metadata": {
        "id": "7YCPxdNHOFjT",
        "colab_type": "code",
        "outputId": "be7fedd9-4e2d-4087-9882-96428500f977",
        "colab": {
          "base_uri": "https://localhost:8080/",
          "height": 34
        }
      },
      "source": [
        "Y_test_val.shape"
      ],
      "execution_count": 23,
      "outputs": [
        {
          "output_type": "execute_result",
          "data": {
            "text/plain": [
              "(300000,)"
            ]
          },
          "metadata": {
            "tags": []
          },
          "execution_count": 23
        }
      ]
    },
    {
      "cell_type": "code",
      "metadata": {
        "id": "dFpaczk76_W8",
        "colab_type": "code",
        "outputId": "2da8fbc8-28f7-4e0c-b175-71ea8bea975e",
        "colab": {
          "base_uri": "https://localhost:8080/",
          "height": 79
        }
      },
      "source": [
        "import keras\n",
        "import numpy as np\n",
        "import matplotlib.pyplot as plt\n",
        "import seaborn as sns\n",
        "import time\n",
        "\n",
        "from keras import backend as K\n",
        "from keras.models import Sequential\n",
        "from keras.layers import Activation\n",
        "from keras.layers.core import Dense\n",
        "from keras.metrics import binary_crossentropy\n",
        "from keras.layers import BatchNormalization"
      ],
      "execution_count": 24,
      "outputs": [
        {
          "output_type": "stream",
          "text": [
            "Using TensorFlow backend.\n"
          ],
          "name": "stderr"
        },
        {
          "output_type": "display_data",
          "data": {
            "text/html": [
              "<p style=\"color: red;\">\n",
              "The default version of TensorFlow in Colab will soon switch to TensorFlow 2.x.<br>\n",
              "We recommend you <a href=\"https://www.tensorflow.org/guide/migrate\" target=\"_blank\">upgrade</a> now \n",
              "or ensure your notebook will continue to use TensorFlow 1.x via the <code>%tensorflow_version 1.x</code> magic:\n",
              "<a href=\"https://colab.research.google.com/notebooks/tensorflow_version.ipynb\" target=\"_blank\">more info</a>.</p>\n"
            ],
            "text/plain": [
              "<IPython.core.display.HTML object>"
            ]
          },
          "metadata": {
            "tags": []
          }
        }
      ]
    },
    {
      "cell_type": "code",
      "metadata": {
        "id": "iVFWJ9re7PCE",
        "colab_type": "code",
        "outputId": "be738f8a-1fe9-487a-e5dd-2a8ef59ae167",
        "colab": {
          "base_uri": "https://localhost:8080/",
          "height": 171
        }
      },
      "source": [
        "model = Sequential([\n",
        "                    Dense(16, input_shape = (68,), activation = 'sigmoid'),\n",
        "                    BatchNormalization(),\n",
        "                    Dense(32, activation = 'sigmoid'),\n",
        "                    BatchNormalization(),\n",
        "                    Dense(8, activation = 'sigmoid'),\n",
        "                    Dense(1, activation = 'sigmoid')\n",
        "])"
      ],
      "execution_count": 26,
      "outputs": [
        {
          "output_type": "stream",
          "text": [
            "WARNING:tensorflow:From /usr/local/lib/python3.6/dist-packages/keras/backend/tensorflow_backend.py:66: The name tf.get_default_graph is deprecated. Please use tf.compat.v1.get_default_graph instead.\n",
            "\n",
            "WARNING:tensorflow:From /usr/local/lib/python3.6/dist-packages/keras/backend/tensorflow_backend.py:541: The name tf.placeholder is deprecated. Please use tf.compat.v1.placeholder instead.\n",
            "\n",
            "WARNING:tensorflow:From /usr/local/lib/python3.6/dist-packages/keras/backend/tensorflow_backend.py:4432: The name tf.random_uniform is deprecated. Please use tf.random.uniform instead.\n",
            "\n",
            "WARNING:tensorflow:From /usr/local/lib/python3.6/dist-packages/keras/backend/tensorflow_backend.py:148: The name tf.placeholder_with_default is deprecated. Please use tf.compat.v1.placeholder_with_default instead.\n",
            "\n"
          ],
          "name": "stdout"
        }
      ]
    },
    {
      "cell_type": "code",
      "metadata": {
        "id": "rooCRIcM8PKB",
        "colab_type": "code",
        "outputId": "9687c8c7-9996-4347-805c-eb62efe71719",
        "colab": {
          "base_uri": "https://localhost:8080/",
          "height": 353
        }
      },
      "source": [
        "model.summary()"
      ],
      "execution_count": 27,
      "outputs": [
        {
          "output_type": "stream",
          "text": [
            "Model: \"sequential_1\"\n",
            "_________________________________________________________________\n",
            "Layer (type)                 Output Shape              Param #   \n",
            "=================================================================\n",
            "dense_1 (Dense)              (None, 16)                1104      \n",
            "_________________________________________________________________\n",
            "batch_normalization_1 (Batch (None, 16)                64        \n",
            "_________________________________________________________________\n",
            "dense_2 (Dense)              (None, 32)                544       \n",
            "_________________________________________________________________\n",
            "batch_normalization_2 (Batch (None, 32)                128       \n",
            "_________________________________________________________________\n",
            "dense_3 (Dense)              (None, 8)                 264       \n",
            "_________________________________________________________________\n",
            "dense_4 (Dense)              (None, 1)                 9         \n",
            "=================================================================\n",
            "Total params: 2,113\n",
            "Trainable params: 2,017\n",
            "Non-trainable params: 96\n",
            "_________________________________________________________________\n"
          ],
          "name": "stdout"
        }
      ]
    },
    {
      "cell_type": "code",
      "metadata": {
        "id": "619dhcrR8Rr2",
        "colab_type": "code",
        "outputId": "179e387e-f022-4ee0-acfc-b10a30b177aa",
        "colab": {
          "base_uri": "https://localhost:8080/",
          "height": 154
        }
      },
      "source": [
        "model.compile(optimizer='rmsprop',\n",
        "              loss='binary_crossentropy',\n",
        "              metrics=['accuracy'])"
      ],
      "execution_count": 28,
      "outputs": [
        {
          "output_type": "stream",
          "text": [
            "WARNING:tensorflow:From /usr/local/lib/python3.6/dist-packages/keras/optimizers.py:793: The name tf.train.Optimizer is deprecated. Please use tf.compat.v1.train.Optimizer instead.\n",
            "\n",
            "WARNING:tensorflow:From /usr/local/lib/python3.6/dist-packages/keras/backend/tensorflow_backend.py:3657: The name tf.log is deprecated. Please use tf.math.log instead.\n",
            "\n",
            "WARNING:tensorflow:From /usr/local/lib/python3.6/dist-packages/tensorflow_core/python/ops/nn_impl.py:183: where (from tensorflow.python.ops.array_ops) is deprecated and will be removed in a future version.\n",
            "Instructions for updating:\n",
            "Use tf.where in 2.0, which has the same broadcast rule as np.where\n"
          ],
          "name": "stdout"
        }
      ]
    },
    {
      "cell_type": "code",
      "metadata": {
        "id": "wLu8s-K18Vwi",
        "colab_type": "code",
        "outputId": "efb7d335-53ac-4cfa-8bf9-8ad3b052d326",
        "colab": {
          "base_uri": "https://localhost:8080/",
          "height": 994
        }
      },
      "source": [
        "History3 = model.fit(X_train,Y_train,batch_size = 500, epochs = 20, validation_data=(X_test_val, Y_test_val))"
      ],
      "execution_count": 29,
      "outputs": [
        {
          "output_type": "stream",
          "text": [
            "WARNING:tensorflow:From /usr/local/lib/python3.6/dist-packages/keras/backend/tensorflow_backend.py:1033: The name tf.assign_add is deprecated. Please use tf.compat.v1.assign_add instead.\n",
            "\n",
            "WARNING:tensorflow:From /usr/local/lib/python3.6/dist-packages/keras/backend/tensorflow_backend.py:1020: The name tf.assign is deprecated. Please use tf.compat.v1.assign instead.\n",
            "\n",
            "WARNING:tensorflow:From /usr/local/lib/python3.6/dist-packages/keras/backend/tensorflow_backend.py:3005: The name tf.Session is deprecated. Please use tf.compat.v1.Session instead.\n",
            "\n",
            "Train on 1000000 samples, validate on 300000 samples\n",
            "Epoch 1/20\n",
            "WARNING:tensorflow:From /usr/local/lib/python3.6/dist-packages/keras/backend/tensorflow_backend.py:190: The name tf.get_default_session is deprecated. Please use tf.compat.v1.get_default_session instead.\n",
            "\n",
            "WARNING:tensorflow:From /usr/local/lib/python3.6/dist-packages/keras/backend/tensorflow_backend.py:197: The name tf.ConfigProto is deprecated. Please use tf.compat.v1.ConfigProto instead.\n",
            "\n",
            "WARNING:tensorflow:From /usr/local/lib/python3.6/dist-packages/keras/backend/tensorflow_backend.py:207: The name tf.global_variables is deprecated. Please use tf.compat.v1.global_variables instead.\n",
            "\n",
            "WARNING:tensorflow:From /usr/local/lib/python3.6/dist-packages/keras/backend/tensorflow_backend.py:216: The name tf.is_variable_initialized is deprecated. Please use tf.compat.v1.is_variable_initialized instead.\n",
            "\n",
            "WARNING:tensorflow:From /usr/local/lib/python3.6/dist-packages/keras/backend/tensorflow_backend.py:223: The name tf.variables_initializer is deprecated. Please use tf.compat.v1.variables_initializer instead.\n",
            "\n",
            "1000000/1000000 [==============================] - 26s 26us/step - loss: 0.7034 - acc: 0.5119 - val_loss: 0.7108 - val_acc: 0.4999\n",
            "Epoch 2/20\n",
            "1000000/1000000 [==============================] - 15s 15us/step - loss: 0.6926 - acc: 0.5240 - val_loss: 0.6942 - val_acc: 0.4999\n",
            "Epoch 3/20\n",
            "1000000/1000000 [==============================] - 15s 15us/step - loss: 0.6900 - acc: 0.5337 - val_loss: 0.6928 - val_acc: 0.5213\n",
            "Epoch 4/20\n",
            "1000000/1000000 [==============================] - 14s 14us/step - loss: 0.6872 - acc: 0.5448 - val_loss: 0.6937 - val_acc: 0.5188\n",
            "Epoch 5/20\n",
            "1000000/1000000 [==============================] - 14s 14us/step - loss: 0.6855 - acc: 0.5535 - val_loss: 0.6948 - val_acc: 0.4999\n",
            "Epoch 6/20\n",
            "1000000/1000000 [==============================] - 15s 15us/step - loss: 0.6842 - acc: 0.5585 - val_loss: 0.8287 - val_acc: 0.5003\n",
            "Epoch 7/20\n",
            "1000000/1000000 [==============================] - 14s 14us/step - loss: 0.6867 - acc: 0.5474 - val_loss: 0.7302 - val_acc: 0.4999\n",
            "Epoch 8/20\n",
            "1000000/1000000 [==============================] - 14s 14us/step - loss: 0.6865 - acc: 0.5514 - val_loss: 0.6871 - val_acc: 0.5395\n",
            "Epoch 9/20\n",
            "1000000/1000000 [==============================] - 15s 15us/step - loss: 0.6857 - acc: 0.5514 - val_loss: 0.7135 - val_acc: 0.5049\n",
            "Epoch 10/20\n",
            "1000000/1000000 [==============================] - 14s 14us/step - loss: 0.6845 - acc: 0.5565 - val_loss: 0.7021 - val_acc: 0.5218\n",
            "Epoch 11/20\n",
            "1000000/1000000 [==============================] - 15s 15us/step - loss: 0.6840 - acc: 0.5587 - val_loss: 0.7112 - val_acc: 0.4994\n",
            "Epoch 12/20\n",
            "1000000/1000000 [==============================] - 15s 15us/step - loss: 0.6829 - acc: 0.5614 - val_loss: 0.6953 - val_acc: 0.5268\n",
            "Epoch 13/20\n",
            "1000000/1000000 [==============================] - 14s 14us/step - loss: 0.6829 - acc: 0.5604 - val_loss: 0.7861 - val_acc: 0.5004\n",
            "Epoch 14/20\n",
            "1000000/1000000 [==============================] - 14s 14us/step - loss: 0.6828 - acc: 0.5585 - val_loss: 0.7361 - val_acc: 0.5028\n",
            "Epoch 15/20\n",
            "1000000/1000000 [==============================] - 14s 14us/step - loss: 0.6825 - acc: 0.5603 - val_loss: 0.7225 - val_acc: 0.4921\n",
            "Epoch 16/20\n",
            "1000000/1000000 [==============================] - 14s 14us/step - loss: 0.6819 - acc: 0.5623 - val_loss: 0.7305 - val_acc: 0.5032\n",
            "Epoch 17/20\n",
            "1000000/1000000 [==============================] - 14s 14us/step - loss: 0.6816 - acc: 0.5635 - val_loss: 0.7357 - val_acc: 0.5000\n",
            "Epoch 18/20\n",
            "1000000/1000000 [==============================] - 14s 14us/step - loss: 0.6818 - acc: 0.5631 - val_loss: 0.7049 - val_acc: 0.4812\n",
            "Epoch 19/20\n",
            "1000000/1000000 [==============================] - 14s 14us/step - loss: 0.6803 - acc: 0.5666 - val_loss: 0.7599 - val_acc: 0.5000\n",
            "Epoch 20/20\n",
            "1000000/1000000 [==============================] - 14s 14us/step - loss: 0.6821 - acc: 0.5580 - val_loss: 0.6982 - val_acc: 0.5202\n"
          ],
          "name": "stdout"
        }
      ]
    },
    {
      "cell_type": "code",
      "metadata": {
        "id": "H7AxGeC_NVf6",
        "colab_type": "code",
        "colab": {}
      },
      "source": [
        ""
      ],
      "execution_count": 0,
      "outputs": []
    },
    {
      "cell_type": "code",
      "metadata": {
        "id": "KFVQXzGXTX-0",
        "colab_type": "code",
        "colab": {}
      },
      "source": [
        ""
      ],
      "execution_count": 0,
      "outputs": []
    }
  ]
}