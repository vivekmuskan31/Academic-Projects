{
  "nbformat": 4,
  "nbformat_minor": 0,
  "metadata": {
    "colab": {
      "name": "NN2_DM.ipynb",
      "provenance": [],
      "collapsed_sections": []
    },
    "kernelspec": {
      "name": "python3",
      "display_name": "Python 3"
    },
    "accelerator": "GPU"
  },
  "cells": [
    {
      "cell_type": "code",
      "metadata": {
        "id": "j6zCTyDI4lgq",
        "colab_type": "code",
        "colab": {}
      },
      "source": [
        "!pip install -U -q PyDrive\n",
        "from pydrive.auth import GoogleAuth\n",
        "from pydrive.drive import GoogleDrive\n",
        "from google.colab import auth\n",
        "from oauth2client.client import GoogleCredentials\n",
        "# Authenticate and create the PyDrive client.\n",
        "auth.authenticate_user()\n",
        "gauth = GoogleAuth()\n",
        "gauth.credentials = GoogleCredentials.get_application_default()\n",
        "drive = GoogleDrive(gauth)"
      ],
      "execution_count": 0,
      "outputs": []
    },
    {
      "cell_type": "code",
      "metadata": {
        "id": "RV_SvWqGJIOz",
        "colab_type": "code",
        "colab": {}
      },
      "source": [
        "import pandas as pd"
      ],
      "execution_count": 0,
      "outputs": []
    },
    {
      "cell_type": "code",
      "metadata": {
        "id": "MwQKJOzN4mpk",
        "colab_type": "code",
        "outputId": "6f8041d0-20c0-4e23-cacd-f0e02a1c2047",
        "colab": {
          "base_uri": "https://localhost:8080/",
          "height": 50
        }
      },
      "source": [
        "link_train = 'https://drive.google.com/open?id=1-45mBdl_NZ5y86tV2t5YuHCI5xYPoKzi'\n",
        "link_test =  'https://drive.google.com/open?id=1-45mBdl_NZ5y86tV2t5YuHCI5xYPoKzi'\n",
        "\n",
        "fluff_train, id_train = link_train.split('=')\n",
        "fluff_test, id_test = link_test.split('=')\n",
        "\n",
        "print (id_train) # Verify that you have everything after '='\n",
        "print(id_test)"
      ],
      "execution_count": 3,
      "outputs": [
        {
          "output_type": "stream",
          "text": [
            "1-45mBdl_NZ5y86tV2t5YuHCI5xYPoKzi\n",
            "1-45mBdl_NZ5y86tV2t5YuHCI5xYPoKzi\n"
          ],
          "name": "stdout"
        }
      ]
    },
    {
      "cell_type": "code",
      "metadata": {
        "id": "TQBszCra49TS",
        "colab_type": "code",
        "colab": {}
      },
      "source": [
        "downloaded = drive.CreateFile({'id':id_train}) \n",
        "downloaded.GetContentFile('Filename.csv')  \n",
        "train = pd.read_csv('Filename.csv')"
      ],
      "execution_count": 0,
      "outputs": []
    },
    {
      "cell_type": "code",
      "metadata": {
        "id": "_sZzbeeUKktk",
        "colab_type": "code",
        "colab": {}
      },
      "source": [
        "downloaded = drive.CreateFile({'id':id_test}) \n",
        "downloaded.GetContentFile('Filename.csv')  \n",
        "test = pd.read_csv('Filename.csv')"
      ],
      "execution_count": 0,
      "outputs": []
    },
    {
      "cell_type": "code",
      "metadata": {
        "id": "IpR_2BBx5EyD",
        "colab_type": "code",
        "outputId": "9d5dfbad-0325-44e9-aa04-aed076f7ef80",
        "colab": {
          "base_uri": "https://localhost:8080/",
          "height": 34
        }
      },
      "source": [
        "train.shape"
      ],
      "execution_count": 6,
      "outputs": [
        {
          "output_type": "execute_result",
          "data": {
            "text/plain": [
              "(1000000, 70)"
            ]
          },
          "metadata": {
            "tags": []
          },
          "execution_count": 6
        }
      ]
    },
    {
      "cell_type": "code",
      "metadata": {
        "id": "4S7Eml5lLH9V",
        "colab_type": "code",
        "outputId": "a4fb2434-c85d-4fd0-b48d-c6c8a0d3bb4f",
        "colab": {
          "base_uri": "https://localhost:8080/",
          "height": 34
        }
      },
      "source": [
        "test.shape"
      ],
      "execution_count": 7,
      "outputs": [
        {
          "output_type": "execute_result",
          "data": {
            "text/plain": [
              "(1000000, 70)"
            ]
          },
          "metadata": {
            "tags": []
          },
          "execution_count": 7
        }
      ]
    },
    {
      "cell_type": "code",
      "metadata": {
        "id": "GhjHXl6n5ynJ",
        "colab_type": "code",
        "colab": {}
      },
      "source": [
        "train = train.to_numpy()\n",
        "test = test.to_numpy()"
      ],
      "execution_count": 0,
      "outputs": []
    },
    {
      "cell_type": "code",
      "metadata": {
        "id": "2mjWbtfr57Xq",
        "colab_type": "code",
        "outputId": "78a8be8e-780d-4259-f1c9-148b587df0a9",
        "colab": {
          "base_uri": "https://localhost:8080/",
          "height": 34
        }
      },
      "source": [
        "train.shape"
      ],
      "execution_count": 9,
      "outputs": [
        {
          "output_type": "execute_result",
          "data": {
            "text/plain": [
              "(1000000, 70)"
            ]
          },
          "metadata": {
            "tags": []
          },
          "execution_count": 9
        }
      ]
    },
    {
      "cell_type": "code",
      "metadata": {
        "id": "fruoQciOLpx7",
        "colab_type": "code",
        "outputId": "5e016539-aac1-4080-80c8-c9f02cd42ba8",
        "colab": {
          "base_uri": "https://localhost:8080/",
          "height": 34
        }
      },
      "source": [
        "test.shape"
      ],
      "execution_count": 10,
      "outputs": [
        {
          "output_type": "execute_result",
          "data": {
            "text/plain": [
              "(1000000, 70)"
            ]
          },
          "metadata": {
            "tags": []
          },
          "execution_count": 10
        }
      ]
    },
    {
      "cell_type": "code",
      "metadata": {
        "id": "gZwQyaKu59MV",
        "colab_type": "code",
        "colab": {}
      },
      "source": [
        "train = train[:,1:]"
      ],
      "execution_count": 0,
      "outputs": []
    },
    {
      "cell_type": "code",
      "metadata": {
        "id": "0-ymVRxJ6AVT",
        "colab_type": "code",
        "outputId": "bde96ccc-1be8-4f84-d2bb-5c41a7893390",
        "colab": {
          "base_uri": "https://localhost:8080/",
          "height": 34
        }
      },
      "source": [
        "train.shape"
      ],
      "execution_count": 12,
      "outputs": [
        {
          "output_type": "execute_result",
          "data": {
            "text/plain": [
              "(1000000, 69)"
            ]
          },
          "metadata": {
            "tags": []
          },
          "execution_count": 12
        }
      ]
    },
    {
      "cell_type": "code",
      "metadata": {
        "id": "UYkxKlOyLxlW",
        "colab_type": "code",
        "colab": {}
      },
      "source": [
        "test = test[:,1:]"
      ],
      "execution_count": 0,
      "outputs": []
    },
    {
      "cell_type": "code",
      "metadata": {
        "id": "iZ97rrUoLxyY",
        "colab_type": "code",
        "outputId": "ff7c3ee3-0396-498b-8a5b-d033c536d47a",
        "colab": {
          "base_uri": "https://localhost:8080/",
          "height": 34
        }
      },
      "source": [
        "test.shape"
      ],
      "execution_count": 14,
      "outputs": [
        {
          "output_type": "execute_result",
          "data": {
            "text/plain": [
              "(1000000, 69)"
            ]
          },
          "metadata": {
            "tags": []
          },
          "execution_count": 14
        }
      ]
    },
    {
      "cell_type": "code",
      "metadata": {
        "id": "3Lz21HXY6ITZ",
        "colab_type": "code",
        "colab": {}
      },
      "source": [
        "Y_train = train[:,-1]"
      ],
      "execution_count": 0,
      "outputs": []
    },
    {
      "cell_type": "code",
      "metadata": {
        "id": "lNTe2CDjMFMM",
        "colab_type": "code",
        "colab": {}
      },
      "source": [
        "Y_test = test[:,-1]"
      ],
      "execution_count": 0,
      "outputs": []
    },
    {
      "cell_type": "code",
      "metadata": {
        "id": "DgBTj-n1MFR7",
        "colab_type": "code",
        "colab": {}
      },
      "source": [
        "X_train = train[:,:-1]"
      ],
      "execution_count": 0,
      "outputs": []
    },
    {
      "cell_type": "code",
      "metadata": {
        "id": "soQvlhFsMFK-",
        "colab_type": "code",
        "colab": {}
      },
      "source": [
        "X_train = (X_train-X_train.mean())/X_train.std()"
      ],
      "execution_count": 0,
      "outputs": []
    },
    {
      "cell_type": "code",
      "metadata": {
        "id": "pTi05s6b6wAz",
        "colab_type": "code",
        "colab": {}
      },
      "source": [
        "X_test = test[:,:-1]"
      ],
      "execution_count": 0,
      "outputs": []
    },
    {
      "cell_type": "code",
      "metadata": {
        "id": "Nf00gqto69LO",
        "colab_type": "code",
        "colab": {}
      },
      "source": [
        "X_test = (X_test-X_test.mean())/X_test.std()"
      ],
      "execution_count": 0,
      "outputs": []
    },
    {
      "cell_type": "code",
      "metadata": {
        "id": "5-HbjUdmNwWT",
        "colab_type": "code",
        "colab": {}
      },
      "source": [
        "X_test_val = X_test[:300000,:]\n",
        "Y_test_val = Y_test[:300000]"
      ],
      "execution_count": 0,
      "outputs": []
    },
    {
      "cell_type": "code",
      "metadata": {
        "id": "n8PFX4zANw7o",
        "colab_type": "code",
        "outputId": "f38fb537-3f7a-436b-aa1b-dce48d4b887b",
        "colab": {
          "base_uri": "https://localhost:8080/",
          "height": 34
        }
      },
      "source": [
        "X_test_val.shape"
      ],
      "execution_count": 22,
      "outputs": [
        {
          "output_type": "execute_result",
          "data": {
            "text/plain": [
              "(300000, 68)"
            ]
          },
          "metadata": {
            "tags": []
          },
          "execution_count": 22
        }
      ]
    },
    {
      "cell_type": "code",
      "metadata": {
        "id": "7YCPxdNHOFjT",
        "colab_type": "code",
        "outputId": "b5317747-f054-4f12-cdb6-12b1daebdb2d",
        "colab": {
          "base_uri": "https://localhost:8080/",
          "height": 34
        }
      },
      "source": [
        "Y_test_val.shape"
      ],
      "execution_count": 23,
      "outputs": [
        {
          "output_type": "execute_result",
          "data": {
            "text/plain": [
              "(300000,)"
            ]
          },
          "metadata": {
            "tags": []
          },
          "execution_count": 23
        }
      ]
    },
    {
      "cell_type": "code",
      "metadata": {
        "id": "dFpaczk76_W8",
        "colab_type": "code",
        "outputId": "e09b5b89-3118-455c-f289-a2b2aca0f6c3",
        "colab": {
          "base_uri": "https://localhost:8080/",
          "height": 79
        }
      },
      "source": [
        "import keras\n",
        "import numpy as np\n",
        "import matplotlib.pyplot as plt\n",
        "import seaborn as sns\n",
        "import time\n",
        "\n",
        "from keras import backend as K\n",
        "from keras.models import Sequential\n",
        "from keras.layers import Activation\n",
        "from keras.layers.core import Dense\n",
        "from keras.metrics import binary_crossentropy\n",
        "from keras.layers import BatchNormalization"
      ],
      "execution_count": 24,
      "outputs": [
        {
          "output_type": "stream",
          "text": [
            "Using TensorFlow backend.\n"
          ],
          "name": "stderr"
        },
        {
          "output_type": "display_data",
          "data": {
            "text/html": [
              "<p style=\"color: red;\">\n",
              "The default version of TensorFlow in Colab will soon switch to TensorFlow 2.x.<br>\n",
              "We recommend you <a href=\"https://www.tensorflow.org/guide/migrate\" target=\"_blank\">upgrade</a> now \n",
              "or ensure your notebook will continue to use TensorFlow 1.x via the <code>%tensorflow_version 1.x</code> magic:\n",
              "<a href=\"https://colab.research.google.com/notebooks/tensorflow_version.ipynb\" target=\"_blank\">more info</a>.</p>\n"
            ],
            "text/plain": [
              "<IPython.core.display.HTML object>"
            ]
          },
          "metadata": {
            "tags": []
          }
        }
      ]
    },
    {
      "cell_type": "code",
      "metadata": {
        "id": "iVFWJ9re7PCE",
        "colab_type": "code",
        "colab": {
          "base_uri": "https://localhost:8080/",
          "height": 171
        },
        "outputId": "3ed17b04-f75c-4495-f004-05d6c187c3bc"
      },
      "source": [
        "model = Sequential([\n",
        "                    Dense(32, input_shape = (68,), activation = 'relu'),\n",
        "                    BatchNormalization(),\n",
        "                    Dense(1, activation = 'sigmoid')\n",
        "])"
      ],
      "execution_count": 25,
      "outputs": [
        {
          "output_type": "stream",
          "text": [
            "WARNING:tensorflow:From /usr/local/lib/python3.6/dist-packages/keras/backend/tensorflow_backend.py:66: The name tf.get_default_graph is deprecated. Please use tf.compat.v1.get_default_graph instead.\n",
            "\n",
            "WARNING:tensorflow:From /usr/local/lib/python3.6/dist-packages/keras/backend/tensorflow_backend.py:541: The name tf.placeholder is deprecated. Please use tf.compat.v1.placeholder instead.\n",
            "\n",
            "WARNING:tensorflow:From /usr/local/lib/python3.6/dist-packages/keras/backend/tensorflow_backend.py:4432: The name tf.random_uniform is deprecated. Please use tf.random.uniform instead.\n",
            "\n",
            "WARNING:tensorflow:From /usr/local/lib/python3.6/dist-packages/keras/backend/tensorflow_backend.py:148: The name tf.placeholder_with_default is deprecated. Please use tf.compat.v1.placeholder_with_default instead.\n",
            "\n"
          ],
          "name": "stdout"
        }
      ]
    },
    {
      "cell_type": "code",
      "metadata": {
        "id": "rooCRIcM8PKB",
        "colab_type": "code",
        "outputId": "e3940533-07ef-42ea-bbec-36c39c457d89",
        "colab": {
          "base_uri": "https://localhost:8080/",
          "height": 252
        }
      },
      "source": [
        "model.summary()"
      ],
      "execution_count": 26,
      "outputs": [
        {
          "output_type": "stream",
          "text": [
            "Model: \"sequential_1\"\n",
            "_________________________________________________________________\n",
            "Layer (type)                 Output Shape              Param #   \n",
            "=================================================================\n",
            "dense_1 (Dense)              (None, 32)                2208      \n",
            "_________________________________________________________________\n",
            "batch_normalization_1 (Batch (None, 32)                128       \n",
            "_________________________________________________________________\n",
            "dense_2 (Dense)              (None, 1)                 33        \n",
            "=================================================================\n",
            "Total params: 2,369\n",
            "Trainable params: 2,305\n",
            "Non-trainable params: 64\n",
            "_________________________________________________________________\n"
          ],
          "name": "stdout"
        }
      ]
    },
    {
      "cell_type": "code",
      "metadata": {
        "id": "619dhcrR8Rr2",
        "colab_type": "code",
        "colab": {
          "base_uri": "https://localhost:8080/",
          "height": 154
        },
        "outputId": "b5f703bf-1650-4550-9368-7cb69c69d091"
      },
      "source": [
        "model.compile(optimizer='rmsprop',\n",
        "              loss='binary_crossentropy',\n",
        "              metrics=['accuracy'])"
      ],
      "execution_count": 27,
      "outputs": [
        {
          "output_type": "stream",
          "text": [
            "WARNING:tensorflow:From /usr/local/lib/python3.6/dist-packages/keras/optimizers.py:793: The name tf.train.Optimizer is deprecated. Please use tf.compat.v1.train.Optimizer instead.\n",
            "\n",
            "WARNING:tensorflow:From /usr/local/lib/python3.6/dist-packages/keras/backend/tensorflow_backend.py:3657: The name tf.log is deprecated. Please use tf.math.log instead.\n",
            "\n",
            "WARNING:tensorflow:From /usr/local/lib/python3.6/dist-packages/tensorflow_core/python/ops/nn_impl.py:183: where (from tensorflow.python.ops.array_ops) is deprecated and will be removed in a future version.\n",
            "Instructions for updating:\n",
            "Use tf.where in 2.0, which has the same broadcast rule as np.where\n"
          ],
          "name": "stdout"
        }
      ]
    },
    {
      "cell_type": "code",
      "metadata": {
        "id": "wLu8s-K18Vwi",
        "colab_type": "code",
        "outputId": "51088b0e-5689-489e-a4fe-ebe158e06e3f",
        "colab": {
          "base_uri": "https://localhost:8080/",
          "height": 994
        }
      },
      "source": [
        "History2 = model.fit(X_train,Y_train,batch_size = 500, epochs = 20, validation_data=(X_test_val, Y_test_val))"
      ],
      "execution_count": 28,
      "outputs": [
        {
          "output_type": "stream",
          "text": [
            "WARNING:tensorflow:From /usr/local/lib/python3.6/dist-packages/keras/backend/tensorflow_backend.py:1033: The name tf.assign_add is deprecated. Please use tf.compat.v1.assign_add instead.\n",
            "\n",
            "WARNING:tensorflow:From /usr/local/lib/python3.6/dist-packages/keras/backend/tensorflow_backend.py:1020: The name tf.assign is deprecated. Please use tf.compat.v1.assign instead.\n",
            "\n",
            "WARNING:tensorflow:From /usr/local/lib/python3.6/dist-packages/keras/backend/tensorflow_backend.py:3005: The name tf.Session is deprecated. Please use tf.compat.v1.Session instead.\n",
            "\n",
            "Train on 1000000 samples, validate on 300000 samples\n",
            "Epoch 1/20\n",
            "WARNING:tensorflow:From /usr/local/lib/python3.6/dist-packages/keras/backend/tensorflow_backend.py:190: The name tf.get_default_session is deprecated. Please use tf.compat.v1.get_default_session instead.\n",
            "\n",
            "WARNING:tensorflow:From /usr/local/lib/python3.6/dist-packages/keras/backend/tensorflow_backend.py:197: The name tf.ConfigProto is deprecated. Please use tf.compat.v1.ConfigProto instead.\n",
            "\n",
            "WARNING:tensorflow:From /usr/local/lib/python3.6/dist-packages/keras/backend/tensorflow_backend.py:207: The name tf.global_variables is deprecated. Please use tf.compat.v1.global_variables instead.\n",
            "\n",
            "WARNING:tensorflow:From /usr/local/lib/python3.6/dist-packages/keras/backend/tensorflow_backend.py:216: The name tf.is_variable_initialized is deprecated. Please use tf.compat.v1.is_variable_initialized instead.\n",
            "\n",
            "WARNING:tensorflow:From /usr/local/lib/python3.6/dist-packages/keras/backend/tensorflow_backend.py:223: The name tf.variables_initializer is deprecated. Please use tf.compat.v1.variables_initializer instead.\n",
            "\n",
            "1000000/1000000 [==============================] - 25s 25us/step - loss: 0.6945 - acc: 0.5074 - val_loss: 0.6933 - val_acc: 0.5100\n",
            "Epoch 2/20\n",
            "1000000/1000000 [==============================] - 15s 15us/step - loss: 0.6928 - acc: 0.5136 - val_loss: 0.7019 - val_acc: 0.5086\n",
            "Epoch 3/20\n",
            "1000000/1000000 [==============================] - 15s 15us/step - loss: 0.6924 - acc: 0.5184 - val_loss: 0.6923 - val_acc: 0.5101\n",
            "Epoch 4/20\n",
            "1000000/1000000 [==============================] - 15s 15us/step - loss: 0.6922 - acc: 0.5215 - val_loss: 0.6943 - val_acc: 0.5027\n",
            "Epoch 5/20\n",
            "1000000/1000000 [==============================] - 15s 15us/step - loss: 0.6920 - acc: 0.5238 - val_loss: 0.6941 - val_acc: 0.5081\n",
            "Epoch 6/20\n",
            "1000000/1000000 [==============================] - 14s 14us/step - loss: 0.6918 - acc: 0.5257 - val_loss: 0.7122 - val_acc: 0.4920\n",
            "Epoch 7/20\n",
            "1000000/1000000 [==============================] - 15s 15us/step - loss: 0.6917 - acc: 0.5266 - val_loss: 0.7097 - val_acc: 0.4923\n",
            "Epoch 8/20\n",
            "1000000/1000000 [==============================] - 15s 15us/step - loss: 0.6915 - acc: 0.5288 - val_loss: 0.6928 - val_acc: 0.5146\n",
            "Epoch 9/20\n",
            "1000000/1000000 [==============================] - 15s 15us/step - loss: 0.6913 - acc: 0.5306 - val_loss: 0.6927 - val_acc: 0.5222\n",
            "Epoch 10/20\n",
            "1000000/1000000 [==============================] - 15s 15us/step - loss: 0.6911 - acc: 0.5323 - val_loss: 0.7031 - val_acc: 0.5120\n",
            "Epoch 11/20\n",
            "1000000/1000000 [==============================] - 16s 16us/step - loss: 0.6909 - acc: 0.5337 - val_loss: 0.6927 - val_acc: 0.5069\n",
            "Epoch 12/20\n",
            "1000000/1000000 [==============================] - 14s 14us/step - loss: 0.6907 - acc: 0.5357 - val_loss: 0.6963 - val_acc: 0.5156\n",
            "Epoch 13/20\n",
            "1000000/1000000 [==============================] - 14s 14us/step - loss: 0.6905 - acc: 0.5370 - val_loss: 0.6932 - val_acc: 0.5123\n",
            "Epoch 14/20\n",
            "1000000/1000000 [==============================] - 15s 15us/step - loss: 0.6902 - acc: 0.5391 - val_loss: 0.7096 - val_acc: 0.5015\n",
            "Epoch 15/20\n",
            "1000000/1000000 [==============================] - 15s 15us/step - loss: 0.6900 - acc: 0.5403 - val_loss: 0.6953 - val_acc: 0.5306\n",
            "Epoch 16/20\n",
            "1000000/1000000 [==============================] - 14s 14us/step - loss: 0.6897 - acc: 0.5410 - val_loss: 0.6984 - val_acc: 0.5045\n",
            "Epoch 17/20\n",
            "1000000/1000000 [==============================] - 14s 14us/step - loss: 0.6894 - acc: 0.5433 - val_loss: 0.6976 - val_acc: 0.5057\n",
            "Epoch 18/20\n",
            "1000000/1000000 [==============================] - 14s 14us/step - loss: 0.6891 - acc: 0.5442 - val_loss: 0.6934 - val_acc: 0.5504\n",
            "Epoch 19/20\n",
            "1000000/1000000 [==============================] - 14s 14us/step - loss: 0.6888 - acc: 0.5455 - val_loss: 0.6987 - val_acc: 0.5202\n",
            "Epoch 20/20\n",
            "1000000/1000000 [==============================] - 14s 14us/step - loss: 0.6885 - acc: 0.5469 - val_loss: 0.7089 - val_acc: 0.5006\n"
          ],
          "name": "stdout"
        }
      ]
    },
    {
      "cell_type": "code",
      "metadata": {
        "id": "H7AxGeC_NVf6",
        "colab_type": "code",
        "colab": {}
      },
      "source": [
        ""
      ],
      "execution_count": 0,
      "outputs": []
    },
    {
      "cell_type": "code",
      "metadata": {
        "id": "KFVQXzGXTX-0",
        "colab_type": "code",
        "colab": {}
      },
      "source": [
        ""
      ],
      "execution_count": 0,
      "outputs": []
    }
  ]
}