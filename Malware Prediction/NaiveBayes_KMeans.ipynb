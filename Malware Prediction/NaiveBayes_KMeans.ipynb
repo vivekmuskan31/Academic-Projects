{
  "nbformat": 4,
  "nbformat_minor": 0,
  "metadata": {
    "colab": {
      "name": "NaiveBayesClassifier.ipynb",
      "provenance": [],
      "collapsed_sections": []
    },
    "kernelspec": {
      "name": "python3",
      "display_name": "Python 3"
    }
  },
  "cells": [
    {
      "cell_type": "code",
      "metadata": {
        "id": "gM6ilJ5t_6Rs",
        "colab_type": "code",
        "colab": {}
      },
      "source": [
        "import pandas as pd\n",
        "import numpy as np"
      ],
      "execution_count": 0,
      "outputs": []
    },
    {
      "cell_type": "code",
      "metadata": {
        "id": "EDeFPti_ACCD",
        "colab_type": "code",
        "colab": {}
      },
      "source": [
        "# Code to read csv file into Colaboratory:\n",
        "!pip install -U -q PyDrive\n",
        "from pydrive.auth import GoogleAuth\n",
        "from pydrive.drive import GoogleDrive\n",
        "from google.colab import auth\n",
        "from oauth2client.client import GoogleCredentials"
      ],
      "execution_count": 0,
      "outputs": []
    },
    {
      "cell_type": "code",
      "metadata": {
        "id": "tMuBsVwaADx7",
        "colab_type": "code",
        "colab": {}
      },
      "source": [
        "# Authenticate and create the PyDrive client.\n",
        "auth.authenticate_user()\n",
        "gauth = GoogleAuth()\n",
        "gauth.credentials = GoogleCredentials.get_application_default()\n",
        "drive = GoogleDrive(gauth)"
      ],
      "execution_count": 0,
      "outputs": []
    },
    {
      "cell_type": "code",
      "metadata": {
        "id": "PzUyzPJVAFcm",
        "colab_type": "code",
        "colab": {}
      },
      "source": [
        "link = \"https://drive.google.com/open?id=1ShmxPB3iWw0vvigPFzuvp4ugd0CGgPbB\""
      ],
      "execution_count": 0,
      "outputs": []
    },
    {
      "cell_type": "code",
      "metadata": {
        "id": "NVLa87CgAOsZ",
        "colab_type": "code",
        "colab": {
          "base_uri": "https://localhost:8080/",
          "height": 34
        },
        "outputId": "9de457f6-cf81-4f56-f08e-75cc43b24984"
      },
      "source": [
        "fluff, id = link.split('=')\n",
        "print (id) # Verify that you have everything after '='"
      ],
      "execution_count": 5,
      "outputs": [
        {
          "output_type": "stream",
          "text": [
            "1ShmxPB3iWw0vvigPFzuvp4ugd0CGgPbB\n"
          ],
          "name": "stdout"
        }
      ]
    },
    {
      "cell_type": "code",
      "metadata": {
        "id": "DGztOEQtARDX",
        "colab_type": "code",
        "colab": {}
      },
      "source": [
        "downloaded = drive.CreateFile({'id':id}) \n",
        "downloaded.GetContentFile('Filename.csv')  \n",
        "train = pd.read_csv('Filename.csv')\n",
        "# Dataset is now stored in a Pandas Dataframe"
      ],
      "execution_count": 0,
      "outputs": []
    },
    {
      "cell_type": "code",
      "metadata": {
        "id": "JdbauhULATX7",
        "colab_type": "code",
        "colab": {}
      },
      "source": [
        "train.drop(train.columns[0], axis=1, inplace=True)"
      ],
      "execution_count": 0,
      "outputs": []
    },
    {
      "cell_type": "code",
      "metadata": {
        "id": "Ult-I9dOAVg5",
        "colab_type": "code",
        "colab": {}
      },
      "source": [
        "train = train.to_numpy()"
      ],
      "execution_count": 0,
      "outputs": []
    },
    {
      "cell_type": "code",
      "metadata": {
        "id": "FjU_zTDIAXRa",
        "colab_type": "code",
        "colab": {}
      },
      "source": [
        "X_train = train[:,:-1]\n",
        "X_label = train[:,-1]"
      ],
      "execution_count": 0,
      "outputs": []
    },
    {
      "cell_type": "code",
      "metadata": {
        "id": "ipRWXAC1AZF0",
        "colab_type": "code",
        "colab": {}
      },
      "source": [
        "link = \"https://drive.google.com/open?id=1uBlDsbtU_6ebQfjzi6lh4IRLK6XArBbH\""
      ],
      "execution_count": 0,
      "outputs": []
    },
    {
      "cell_type": "code",
      "metadata": {
        "id": "D717bumFAaoS",
        "colab_type": "code",
        "colab": {
          "base_uri": "https://localhost:8080/",
          "height": 34
        },
        "outputId": "83a42d1d-63d6-432e-b988-0fb5ca01e99d"
      },
      "source": [
        "fluff, id = link.split('=')\n",
        "print (id) # Verify that you have everything after '='"
      ],
      "execution_count": 11,
      "outputs": [
        {
          "output_type": "stream",
          "text": [
            "1uBlDsbtU_6ebQfjzi6lh4IRLK6XArBbH\n"
          ],
          "name": "stdout"
        }
      ]
    },
    {
      "cell_type": "code",
      "metadata": {
        "id": "4-CkK4yGAdJ2",
        "colab_type": "code",
        "colab": {}
      },
      "source": [
        "downloaded = drive.CreateFile({'id':id}) \n",
        "downloaded.GetContentFile('Filename.csv')  \n",
        "test = pd.read_csv('Filename.csv')\n",
        "# Dataset is now stored in a Pandas Dataframe"
      ],
      "execution_count": 0,
      "outputs": []
    },
    {
      "cell_type": "code",
      "metadata": {
        "id": "GNgdfymoAe0_",
        "colab_type": "code",
        "colab": {}
      },
      "source": [
        "test.drop(test.columns[0], axis=1, inplace=True)"
      ],
      "execution_count": 0,
      "outputs": []
    },
    {
      "cell_type": "code",
      "metadata": {
        "id": "o1rLbFDzAgRQ",
        "colab_type": "code",
        "colab": {}
      },
      "source": [
        "test = test.to_numpy()"
      ],
      "execution_count": 0,
      "outputs": []
    },
    {
      "cell_type": "code",
      "metadata": {
        "id": "ZGXN24ITAiV2",
        "colab_type": "code",
        "colab": {}
      },
      "source": [
        "X_test = test[0:500000,:-1]\n",
        "X_test_label = test[0:500000,-1]"
      ],
      "execution_count": 0,
      "outputs": []
    },
    {
      "cell_type": "code",
      "metadata": {
        "id": "g2jHp4nYAkIW",
        "colab_type": "code",
        "colab": {}
      },
      "source": [
        "Val_test = test[500000:,:-1]\n",
        "Val_label = test[500000:,-1]"
      ],
      "execution_count": 0,
      "outputs": []
    },
    {
      "cell_type": "code",
      "metadata": {
        "id": "cEoSgz9-AlmO",
        "colab_type": "code",
        "colab": {
          "base_uri": "https://localhost:8080/",
          "height": 34
        },
        "outputId": "1c2a7221-f7ce-42d5-8f04-ec26bb504530"
      },
      "source": [
        "from sklearn.naive_bayes import GaussianNB\n",
        "model = GaussianNB()\n",
        "model.fit(X_train, X_label)\n",
        "model.score(X_test, X_test_label)"
      ],
      "execution_count": 36,
      "outputs": [
        {
          "output_type": "execute_result",
          "data": {
            "text/plain": [
              "0.524392"
            ]
          },
          "metadata": {
            "tags": []
          },
          "execution_count": 36
        }
      ]
    },
    {
      "cell_type": "code",
      "metadata": {
        "id": "P80H1wchAvy-",
        "colab_type": "code",
        "colab": {
          "base_uri": "https://localhost:8080/",
          "height": 34
        },
        "outputId": "a162dbc9-aa6e-4fcf-db22-72c097aed60b"
      },
      "source": [
        "from sklearn.naive_bayes import BernoulliNB\n",
        "model = BernoulliNB()\n",
        "model.fit(X_train, X_label)\n",
        "model.score(X_test, X_test_label)"
      ],
      "execution_count": 35,
      "outputs": [
        {
          "output_type": "execute_result",
          "data": {
            "text/plain": [
              "0.542764"
            ]
          },
          "metadata": {
            "tags": []
          },
          "execution_count": 35
        }
      ]
    },
    {
      "cell_type": "code",
      "metadata": {
        "id": "tAi1OzYdPeo-",
        "colab_type": "code",
        "colab": {}
      },
      "source": [
        "# from sklearn.naive_bayes import MultinomialNB\n",
        "# model = MultinomialNB()\n",
        "# model.fit(X_train, X_label)\n",
        "# model.score(X_test, X_test_label)"
      ],
      "execution_count": 0,
      "outputs": []
    },
    {
      "cell_type": "code",
      "metadata": {
        "id": "CY8eXGQiYvXr",
        "colab_type": "code",
        "colab": {}
      },
      "source": [
        "accuracy = []"
      ],
      "execution_count": 0,
      "outputs": []
    },
    {
      "cell_type": "code",
      "metadata": {
        "id": "TogIIvOXPqgo",
        "colab_type": "code",
        "colab": {
          "base_uri": "https://localhost:8080/",
          "height": 588
        },
        "outputId": "7567617f-12e5-4dcd-f9ff-129fe08c06e3"
      },
      "source": [
        "from sklearn.cluster import KMeans\n",
        "for i in range(300, 2000, 50):\n",
        "  kmeans = KMeans(n_clusters = 2, max_iter = i)\n",
        "  kmeans.fit(X_train)\n",
        "  labels = kmeans.predict(X_train)\n",
        "  acuu = 1-abs(labels-X_label).sum()/len(X_train)\n",
        "  print(\"iterations->\", i, \"Accuracy->\", acuu)\n",
        "  accuracy.append((i, acuu))"
      ],
      "execution_count": 65,
      "outputs": [
        {
          "output_type": "stream",
          "text": [
            "iterations-> 300 Accuracy-> 0.5086660000000001\n",
            "iterations-> 350 Accuracy-> 0.49133400000000005\n",
            "iterations-> 400 Accuracy-> 0.49133400000000005\n",
            "iterations-> 450 Accuracy-> 0.49133400000000005\n",
            "iterations-> 500 Accuracy-> 0.5086660000000001\n",
            "iterations-> 550 Accuracy-> 0.5086660000000001\n",
            "iterations-> 600 Accuracy-> 0.49133400000000005\n",
            "iterations-> 650 Accuracy-> 0.5086660000000001\n",
            "iterations-> 700 Accuracy-> 0.5086660000000001\n",
            "iterations-> 750 Accuracy-> 0.5086660000000001\n",
            "iterations-> 800 Accuracy-> 0.5086660000000001\n",
            "iterations-> 850 Accuracy-> 0.5086660000000001\n",
            "iterations-> 900 Accuracy-> 0.5086660000000001\n",
            "iterations-> 950 Accuracy-> 0.49133400000000005\n",
            "iterations-> 1000 Accuracy-> 0.49133400000000005\n",
            "iterations-> 1050 Accuracy-> 0.5086660000000001\n",
            "iterations-> 1100 Accuracy-> 0.5086660000000001\n",
            "iterations-> 1150 Accuracy-> 0.5086660000000001\n",
            "iterations-> 1200 Accuracy-> 0.5086660000000001\n",
            "iterations-> 1250 Accuracy-> 0.5086660000000001\n",
            "iterations-> 1300 Accuracy-> 0.5086660000000001\n",
            "iterations-> 1350 Accuracy-> 0.5086660000000001\n",
            "iterations-> 1400 Accuracy-> 0.5086660000000001\n",
            "iterations-> 1450 Accuracy-> 0.5086660000000001\n",
            "iterations-> 1500 Accuracy-> 0.49133400000000005\n",
            "iterations-> 1550 Accuracy-> 0.5086660000000001\n",
            "iterations-> 1600 Accuracy-> 0.5086660000000001\n",
            "iterations-> 1650 Accuracy-> 0.5086660000000001\n",
            "iterations-> 1700 Accuracy-> 0.5086660000000001\n",
            "iterations-> 1750 Accuracy-> 0.5086660000000001\n",
            "iterations-> 1800 Accuracy-> 0.5086660000000001\n",
            "iterations-> 1850 Accuracy-> 0.49133400000000005\n",
            "iterations-> 1900 Accuracy-> 0.5086660000000001\n",
            "iterations-> 1950 Accuracy-> 0.5086660000000001\n"
          ],
          "name": "stdout"
        }
      ]
    },
    {
      "cell_type": "code",
      "metadata": {
        "id": "EVU_mu3rZ0iV",
        "colab_type": "code",
        "colab": {}
      },
      "source": [
        "import matplotlib.pyplot as pt"
      ],
      "execution_count": 0,
      "outputs": []
    },
    {
      "cell_type": "code",
      "metadata": {
        "id": "aznIGFJWW5iF",
        "colab_type": "code",
        "colab": {
          "base_uri": "https://localhost:8080/",
          "height": 295
        },
        "outputId": "a46d4dcd-9b5e-4516-d92c-28cffbab58be"
      },
      "source": [
        "pt.plot(*zip(*accuracy))\n",
        "pt.title('Accuracy vs iterations')\n",
        "pt.xlabel('iterations')\n",
        "pt.ylabel('Accuracy')\n",
        "pt.show()"
      ],
      "execution_count": 67,
      "outputs": [
        {
          "output_type": "display_data",
          "data": {
            "image/png": "[encoded data removed]",
            "text/plain": [
              "<Figure size 432x288 with 1 Axes>"
            ]
          },
          "metadata": {
            "tags": []
          }
        }
      ]
    }
  ]
}